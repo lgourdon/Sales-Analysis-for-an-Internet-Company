{
 "cells": [
  {
   "cell_type": "markdown",
   "metadata": {},
   "source": [
    "# Mission n°1\n",
    "Avant de pouvoir entrer dans le vif du sujet, il vous faudra faire un peu de nettoyage !<br>\n",
    "Par exemple, vous devrez faire des choix quant au traitement des valeurs manquantes et des valeurs aberrantes.\n",
    "\n",
    "<a id=tdm></a>\n",
    "### Table des matières\n",
    "\n",
    "#### 1. [Table 'transactions'](#trans)\n",
    " * [Exclusion des valeurs de test](#trans1)\n",
    " * [Identfication des clés](#trans2)\n",
    " * [Transformation de 'date' en timestamp](#trans3)\n",
    " * [Création de variables de temps](#trans4)\n",
    " * [Conclusion](#trans5)\n",
    " \n",
    "#### 2. [Table 'products'](#prod)\n",
    " * [Exclusion des valeurs de test](#prod1)<br>\n",
    " * [Skewness de 'price'](#prod2) \n",
    " * [Recherche de doublons dans 'id_prod'](#prod3) \n",
    " \n",
    "#### 3. [Table 'customers'](#cust)\n",
    " * [Exclusion des valeurs de test](#cust1)<br>\n",
    " * [Recherche de doublons dans 'client_id'](#cust2)<br>\n",
    " * [Calcul de l'âge des clients](#cust3)\n",
    "\n",
    "#### 4. [Merge des 3 tables](#mrg)\n",
    " * [Merge de transactions et cutomers (left join)](#mrg1)\n",
    " * [Merge avec products (outer joint)](#mrg2)\n",
    " * [Identification des NaN dans 'price'](#mrg3) \n",
    " * [Description de la valeur de 'price' pour la catégorie 0](#mrg4) \n",
    " * [Remplacement des NaN de 'price' et 'categ' pour le produit 0_2245](#mrg5) \n",
    "\n",
    " \n",
    "#### 5. [Contrôle de la cohérence des variables](#ctrl)\n",
    " * [Somme de price pour client_id](#ctrl1)\n",
    " * [Nombre de sessions mensuelles par catégorie](#ctrl2)\n",
    " * [Chiffre d'affaire (CA) mensuel par catégorie](#ctrl3)\n",
    " * [Détail sur octobre pour la catégorie 1](#ctrl4)\n",
    " * [Dernier contrôle de la table et export](#ctrl5)"
   ]
  },
  {
   "cell_type": "code",
   "execution_count": 1,
   "metadata": {},
   "outputs": [],
   "source": [
    "# Import des librairies\n",
    "import numpy as np\n",
    "import pandas as pd\n",
    "\n",
    "import matplotlib.pyplot as plt\n",
    "from pylab import rcParams\n",
    "from scipy import stats\n",
    "import seaborn as sns\n",
    "%matplotlib inline"
   ]
  },
  {
   "cell_type": "markdown",
   "metadata": {},
   "source": [
    "<a id=trans></a>\n",
    "## 1. [[tdm]](#tdm) Table 'transactions'"
   ]
  },
  {
   "cell_type": "code",
   "execution_count": 2,
   "metadata": {},
   "outputs": [],
   "source": [
    "# Import des données 'transactions'\n",
    "trans = pd.read_csv('data/transactions.csv')"
   ]
  },
  {
   "cell_type": "markdown",
   "metadata": {},
   "source": [
    "<a id=trans1></a>\n",
    "####  1. [[tdm]](#tdm) Exclusion des valeurs de test \n",
    "La variable 'date' contient une série de valeurs contenant le mot 'test'"
   ]
  },
  {
   "cell_type": "code",
   "execution_count": 3,
   "metadata": {},
   "outputs": [
    {
     "data": {
      "text/html": [
       "<div>\n",
       "<style scoped>\n",
       "    .dataframe tbody tr th:only-of-type {\n",
       "        vertical-align: middle;\n",
       "    }\n",
       "\n",
       "    .dataframe tbody tr th {\n",
       "        vertical-align: top;\n",
       "    }\n",
       "\n",
       "    .dataframe thead th {\n",
       "        text-align: right;\n",
       "    }\n",
       "</style>\n",
       "<table border=\"1\" class=\"dataframe\">\n",
       "  <thead>\n",
       "    <tr style=\"text-align: right;\">\n",
       "      <th></th>\n",
       "      <th>id_prod</th>\n",
       "      <th>date</th>\n",
       "      <th>session_id</th>\n",
       "      <th>client_id</th>\n",
       "    </tr>\n",
       "  </thead>\n",
       "  <tbody>\n",
       "    <tr>\n",
       "      <th>1431</th>\n",
       "      <td>T_0</td>\n",
       "      <td>test_2021-03-01 02:30:02.237420</td>\n",
       "      <td>s_0</td>\n",
       "      <td>ct_1</td>\n",
       "    </tr>\n",
       "  </tbody>\n",
       "</table>\n",
       "</div>"
      ],
      "text/plain": [
       "     id_prod                             date session_id client_id\n",
       "1431     T_0  test_2021-03-01 02:30:02.237420        s_0      ct_1"
      ]
     },
     "execution_count": 3,
     "metadata": {},
     "output_type": "execute_result"
    }
   ],
   "source": [
    "# Recherche pour 'date' des lignes contenant 'test'\n",
    "test = trans[trans['date'].str.contains('test')]\n",
    "test.head(1)"
   ]
  },
  {
   "cell_type": "code",
   "execution_count": 4,
   "metadata": {},
   "outputs": [
    {
     "data": {
      "text/plain": [
       "200"
      ]
     },
     "execution_count": 4,
     "metadata": {},
     "output_type": "execute_result"
    }
   ],
   "source": [
    "# nombre de lignes\n",
    "test['date'].count()"
   ]
  },
  {
   "cell_type": "code",
   "execution_count": 5,
   "metadata": {},
   "outputs": [
    {
     "data": {
      "text/plain": [
       "array(['T_0'], dtype=object)"
      ]
     },
     "execution_count": 5,
     "metadata": {},
     "output_type": "execute_result"
    }
   ],
   "source": [
    "# Valeurs uniques de 'id_prod'\n",
    "test['id_prod'].unique()"
   ]
  },
  {
   "cell_type": "code",
   "execution_count": 6,
   "metadata": {},
   "outputs": [
    {
     "data": {
      "text/plain": [
       "array(['s_0'], dtype=object)"
      ]
     },
     "execution_count": 6,
     "metadata": {},
     "output_type": "execute_result"
    }
   ],
   "source": [
    "# Valeurs uniques de 'session_id'\n",
    "test['session_id'].unique()"
   ]
  },
  {
   "cell_type": "code",
   "execution_count": 7,
   "metadata": {},
   "outputs": [
    {
     "data": {
      "text/plain": [
       "array(['ct_1', 'ct_0'], dtype=object)"
      ]
     },
     "execution_count": 7,
     "metadata": {},
     "output_type": "execute_result"
    }
   ],
   "source": [
    "# Valeurs uniques de 'client_id'\n",
    "test['client_id'].unique()"
   ]
  },
  {
   "cell_type": "markdown",
   "metadata": {},
   "source": [
    "* Il y a 200 valeurs contenant le mot 'test' dans **date** \n",
    " - **id_prod** = T_0\n",
    " - **session_id** = s_0\n",
    " - **client_id** = ct_0, ct_1\n",
    " \n",
    "* Il faut exclure les valeurs de test pour ne garder que le trafic réel\n",
    "* On doit garder en mémoire pour les autres fichiers que **id_prod** = T_0 et **client_id** = ct_0, ct_1 sont à exclure"
   ]
  },
  {
   "cell_type": "code",
   "execution_count": 8,
   "metadata": {},
   "outputs": [
    {
     "data": {
      "text/html": [
       "<div>\n",
       "<style scoped>\n",
       "    .dataframe tbody tr th:only-of-type {\n",
       "        vertical-align: middle;\n",
       "    }\n",
       "\n",
       "    .dataframe tbody tr th {\n",
       "        vertical-align: top;\n",
       "    }\n",
       "\n",
       "    .dataframe thead th {\n",
       "        text-align: right;\n",
       "    }\n",
       "</style>\n",
       "<table border=\"1\" class=\"dataframe\">\n",
       "  <thead>\n",
       "    <tr style=\"text-align: right;\">\n",
       "      <th></th>\n",
       "      <th>index</th>\n",
       "      <th>id_prod</th>\n",
       "      <th>date</th>\n",
       "      <th>session_id</th>\n",
       "      <th>client_id</th>\n",
       "    </tr>\n",
       "  </thead>\n",
       "  <tbody>\n",
       "  </tbody>\n",
       "</table>\n",
       "</div>"
      ],
      "text/plain": [
       "Empty DataFrame\n",
       "Columns: [index, id_prod, date, session_id, client_id]\n",
       "Index: []"
      ]
     },
     "execution_count": 8,
     "metadata": {},
     "output_type": "execute_result"
    }
   ],
   "source": [
    "# on retire les lignes de 'date' contenant 'test'\n",
    "trans2=trans[~trans['date'].str.contains('test')]\n",
    "trans2 = trans2.reset_index()\n",
    "trans2.head(0)"
   ]
  },
  {
   "cell_type": "markdown",
   "metadata": {},
   "source": [
    "<a id=trans2></a>\n",
    "####  2. [[tdm]](#tdm) Identfication des clés "
   ]
  },
  {
   "cell_type": "markdown",
   "metadata": {},
   "source": [
    "![](img/Q1/relations_df.png)"
   ]
  },
  {
   "cell_type": "markdown",
   "metadata": {},
   "source": [
    "<a id=trans3></a>\n",
    "#### 3. [[tdm]](#tdm) Transformation de 'date' en timestamp"
   ]
  },
  {
   "cell_type": "code",
   "execution_count": 9,
   "metadata": {},
   "outputs": [
    {
     "data": {
      "text/html": [
       "<div>\n",
       "<style scoped>\n",
       "    .dataframe tbody tr th:only-of-type {\n",
       "        vertical-align: middle;\n",
       "    }\n",
       "\n",
       "    .dataframe tbody tr th {\n",
       "        vertical-align: top;\n",
       "    }\n",
       "\n",
       "    .dataframe thead th {\n",
       "        text-align: right;\n",
       "    }\n",
       "</style>\n",
       "<table border=\"1\" class=\"dataframe\">\n",
       "  <thead>\n",
       "    <tr style=\"text-align: right;\">\n",
       "      <th></th>\n",
       "      <th>index</th>\n",
       "      <th>id_prod</th>\n",
       "      <th>timestamp</th>\n",
       "      <th>session_id</th>\n",
       "      <th>client_id</th>\n",
       "    </tr>\n",
       "  </thead>\n",
       "  <tbody>\n",
       "    <tr>\n",
       "      <th>0</th>\n",
       "      <td>0</td>\n",
       "      <td>0_1483</td>\n",
       "      <td>2021-04-10 18:37:28.723910</td>\n",
       "      <td>s_18746</td>\n",
       "      <td>c_4450</td>\n",
       "    </tr>\n",
       "  </tbody>\n",
       "</table>\n",
       "</div>"
      ],
      "text/plain": [
       "   index id_prod                  timestamp session_id client_id\n",
       "0      0  0_1483 2021-04-10 18:37:28.723910    s_18746    c_4450"
      ]
     },
     "execution_count": 9,
     "metadata": {},
     "output_type": "execute_result"
    }
   ],
   "source": [
    "transactions = trans2.copy()\n",
    "# On renomme la colonne 'date' en 'timestamp'\n",
    "transactions = transactions.rename(index=str, columns={'date': 'timestamp'})\n",
    "\n",
    "# On converti en dates\n",
    "transactions['timestamp'] = pd.to_datetime(transactions['timestamp'])\n",
    "transactions.head(1)"
   ]
  },
  {
   "cell_type": "markdown",
   "metadata": {},
   "source": [
    "<a id=trans4></a>\n",
    "#### 4. [[tdm]](#tdm) Création de variables de temps"
   ]
  },
  {
   "cell_type": "code",
   "execution_count": 10,
   "metadata": {
    "scrolled": true
   },
   "outputs": [
    {
     "data": {
      "text/html": [
       "<div>\n",
       "<style scoped>\n",
       "    .dataframe tbody tr th:only-of-type {\n",
       "        vertical-align: middle;\n",
       "    }\n",
       "\n",
       "    .dataframe tbody tr th {\n",
       "        vertical-align: top;\n",
       "    }\n",
       "\n",
       "    .dataframe thead th {\n",
       "        text-align: right;\n",
       "    }\n",
       "</style>\n",
       "<table border=\"1\" class=\"dataframe\">\n",
       "  <thead>\n",
       "    <tr style=\"text-align: right;\">\n",
       "      <th></th>\n",
       "      <th>index</th>\n",
       "      <th>id_prod</th>\n",
       "      <th>timestamp</th>\n",
       "      <th>session_id</th>\n",
       "      <th>client_id</th>\n",
       "      <th>timeline</th>\n",
       "      <th>date</th>\n",
       "      <th>year</th>\n",
       "      <th>month</th>\n",
       "      <th>day</th>\n",
       "      <th>hour</th>\n",
       "    </tr>\n",
       "  </thead>\n",
       "  <tbody>\n",
       "    <tr>\n",
       "      <th>51887</th>\n",
       "      <td>51907</td>\n",
       "      <td>1_264</td>\n",
       "      <td>2021-03-28 17:16:26.325707</td>\n",
       "      <td>s_12716</td>\n",
       "      <td>c_6624</td>\n",
       "      <td>2021-03</td>\n",
       "      <td>28-03-2021</td>\n",
       "      <td>2021</td>\n",
       "      <td>3</td>\n",
       "      <td>Sunday</td>\n",
       "      <td>17</td>\n",
       "    </tr>\n",
       "  </tbody>\n",
       "</table>\n",
       "</div>"
      ],
      "text/plain": [
       "       index id_prod                  timestamp session_id client_id timeline  \\\n",
       "51887  51907   1_264 2021-03-28 17:16:26.325707    s_12716    c_6624  2021-03   \n",
       "\n",
       "             date  year  month     day  hour  \n",
       "51887  28-03-2021  2021      3  Sunday    17  "
      ]
     },
     "execution_count": 10,
     "metadata": {},
     "output_type": "execute_result"
    }
   ],
   "source": [
    "# création de la colonne timelime = 'year + month'\n",
    "transactions['timeline'] = transactions['timestamp'].dt.strftime('%Y-%m')\n",
    "\n",
    "# création de la colonne 'date'\n",
    "transactions['date'] = transactions['timestamp'].dt.strftime('%d-%m-%Y')\n",
    "\n",
    "# création de la colonne 'year'\n",
    "transactions['year'] = transactions['timestamp'].dt.year\n",
    "\n",
    "# création de la colonne 'month'\n",
    "transactions['month'] = transactions['timestamp'].dt.month\n",
    "\n",
    "# création de la colonne 'day'\n",
    "transactions['day'] = transactions['timestamp'].dt.weekday_name\n",
    "transactions.head(1)\n",
    "\n",
    "# # création de la colonne 'hour'\n",
    "transactions['hour'] = transactions['timestamp'].dt.hour\n",
    "\n",
    "# Tri par ordre croissant sur 'timelime'\n",
    "transactions.sort_values(['timeline'], ascending=[True], inplace=True)\n",
    "transactions.head(1)"
   ]
  },
  {
   "cell_type": "code",
   "execution_count": 11,
   "metadata": {},
   "outputs": [
    {
     "data": {
      "text/plain": [
       "array(['2021-03', '2021-04', '2021-05', '2021-06', '2021-07', '2021-08',\n",
       "       '2021-09', '2021-10', '2021-11', '2021-12', '2022-01', '2022-02'],\n",
       "      dtype=object)"
      ]
     },
     "execution_count": 11,
     "metadata": {},
     "output_type": "execute_result"
    }
   ],
   "source": [
    "# check unique 'timeline'\n",
    "transactions['timeline'].unique()"
   ]
  },
  {
   "cell_type": "markdown",
   "metadata": {},
   "source": [
    "<a id=trans5></a>\n",
    "#### 5. [[tdm]](#tdm) Conclusion"
   ]
  },
  {
   "cell_type": "markdown",
   "metadata": {},
   "source": [
    "**Nous avons :**\n",
    "* 12 mois d'activité de mars 2021 à février 2022 pour 'timeline'\n",
    "* 2 valeurs pour 'year'\n",
    "* 365 valeurs pour 'date'\n",
    "* 12 valeurs pour 'month'\n",
    "* 31 valeurs pour 'day'\n",
    "* 24 valeurs pour 'hour'"
   ]
  },
  {
   "cell_type": "markdown",
   "metadata": {},
   "source": [
    "<a id=prod></a>\n",
    "## 2. [[tdm]](#tdm) Table 'products'"
   ]
  },
  {
   "cell_type": "code",
   "execution_count": 12,
   "metadata": {},
   "outputs": [],
   "source": [
    "# Import des données 'products'\n",
    "prod = pd.read_csv('data/products.csv')"
   ]
  },
  {
   "cell_type": "markdown",
   "metadata": {},
   "source": [
    "<a id=prod1></a>\n",
    "#### 1. [[tdm]](#tdm) Exclusion des valeurs de test"
   ]
  },
  {
   "cell_type": "code",
   "execution_count": 13,
   "metadata": {},
   "outputs": [
    {
     "data": {
      "text/html": [
       "<div>\n",
       "<style scoped>\n",
       "    .dataframe tbody tr th:only-of-type {\n",
       "        vertical-align: middle;\n",
       "    }\n",
       "\n",
       "    .dataframe tbody tr th {\n",
       "        vertical-align: top;\n",
       "    }\n",
       "\n",
       "    .dataframe thead th {\n",
       "        text-align: right;\n",
       "    }\n",
       "</style>\n",
       "<table border=\"1\" class=\"dataframe\">\n",
       "  <thead>\n",
       "    <tr style=\"text-align: right;\">\n",
       "      <th></th>\n",
       "      <th>id_prod</th>\n",
       "      <th>price</th>\n",
       "      <th>categ</th>\n",
       "    </tr>\n",
       "  </thead>\n",
       "  <tbody>\n",
       "    <tr>\n",
       "      <th>0</th>\n",
       "      <td>0_1421</td>\n",
       "      <td>19.99</td>\n",
       "      <td>0</td>\n",
       "    </tr>\n",
       "    <tr>\n",
       "      <th>1</th>\n",
       "      <td>0_1368</td>\n",
       "      <td>5.13</td>\n",
       "      <td>0</td>\n",
       "    </tr>\n",
       "  </tbody>\n",
       "</table>\n",
       "</div>"
      ],
      "text/plain": [
       "  id_prod  price  categ\n",
       "0  0_1421  19.99      0\n",
       "1  0_1368   5.13      0"
      ]
     },
     "execution_count": 13,
     "metadata": {},
     "output_type": "execute_result"
    }
   ],
   "source": [
    "# exclusion du test 'T_0' dans 'id_prod'\n",
    "prod = prod[~prod['id_prod'].str.contains('T_0')]\n",
    "prod.head(2)"
   ]
  },
  {
   "cell_type": "code",
   "execution_count": 14,
   "metadata": {},
   "outputs": [
    {
     "data": {
      "text/plain": [
       "count    3286.000000\n",
       "mean       21.863597\n",
       "std        29.849786\n",
       "min         0.620000\n",
       "25%         6.990000\n",
       "50%        13.075000\n",
       "75%        22.990000\n",
       "max       300.000000\n",
       "Name: price, dtype: float64"
      ]
     },
     "execution_count": 14,
     "metadata": {},
     "output_type": "execute_result"
    }
   ],
   "source": [
    "# comportement des valeurs de 'price'\n",
    "prod['price'].describe()"
   ]
  },
  {
   "cell_type": "markdown",
   "metadata": {},
   "source": [
    "* Le prix d'un article est compris entre 0.62 et 300.00 \n",
    "* Il y a un grand écart entre le 3e quartile et le max\n",
    "* La moyenne est plus proche du 3e quartile que de la médiane, laissant supposer un skewness à droite"
   ]
  },
  {
   "cell_type": "markdown",
   "metadata": {},
   "source": [
    "<a id=prod2></a>\n",
    "#### 2. [[tdm]](#tdm) Skewness du prix des produits"
   ]
  },
  {
   "cell_type": "code",
   "execution_count": 15,
   "metadata": {},
   "outputs": [
    {
     "name": "stderr",
     "output_type": "stream",
     "text": [
      "C:\\Users\\Lolo\\Anaconda3\\lib\\site-packages\\scipy\\stats\\stats.py:1713: FutureWarning: Using a non-tuple sequence for multidimensional indexing is deprecated; use `arr[tuple(seq)]` instead of `arr[seq]`. In the future this will be interpreted as an array index, `arr[np.array(seq)]`, which will result either in an error or a different result.\n",
      "  return np.add.reduce(sorted[indexer] * weights, axis=axis) / sumval\n"
     ]
    },
    {
     "data": {
      "image/png": "[encoded data removed]",
      "text/plain": [
       "<Figure size 648x360 with 1 Axes>"
      ]
     },
     "metadata": {},
     "output_type": "display_data"
    }
   ],
   "source": [
    "skew = prod[['price']]\n",
    "\n",
    "# visualisation du skewness de 'price'\n",
    "sns.set_style(\"darkgrid\")\n",
    "plt.figure(figsize=(9,5))\n",
    "\n",
    "# graphique\n",
    "sns.distplot(skew.price)\n",
    "\n",
    "plt.title('Skewness du prix des produits', fontsize=16, color='maroon')\n",
    "# labels\n",
    "plt.xlabel('prix des produits', color='darkblue', size=13)\n",
    "\n",
    "\n",
    "plt.savefig('img/Q1/2.2 skewness.png', dpi=120, bbox_inches='tight')\n",
    "plt.show()\n",
    "plt.close()"
   ]
  },
  {
   "cell_type": "markdown",
   "metadata": {},
   "source": [
    "* Le skewness à droite est très étendu mais les valeurs sont contentrées entre la médiane et le 3e quartile"
   ]
  },
  {
   "cell_type": "code",
   "execution_count": 16,
   "metadata": {},
   "outputs": [
    {
     "data": {
      "text/plain": [
       "array([0, 1, 2], dtype=int64)"
      ]
     },
     "execution_count": 16,
     "metadata": {},
     "output_type": "execute_result"
    }
   ],
   "source": [
    "#check des valeurs de 'categ'\n",
    "prod['categ'].unique()#check de Flag Description"
   ]
  },
  {
   "cell_type": "markdown",
   "metadata": {},
   "source": [
    "* Il n'y a que 3 catégories de produits"
   ]
  },
  {
   "cell_type": "markdown",
   "metadata": {},
   "source": [
    "<a id=prod3></a>\n",
    "#### 3. [[tdm]](#tdm) Recherche de doublons dans 'id_prod'"
   ]
  },
  {
   "cell_type": "code",
   "execution_count": 17,
   "metadata": {},
   "outputs": [
    {
     "name": "stdout",
     "output_type": "stream",
     "text": [
      "pas de doublons dans id_prod\n"
     ]
    }
   ],
   "source": [
    "a = prod['id_prod']\n",
    "b = set(prod['id_prod']) #supprime les doublons...\n",
    "\n",
    "if len(a) != len(b):\n",
    "    print('doublons dans id_prod')\n",
    "else:\n",
    "    print( 'pas de doublons dans id_prod')"
   ]
  },
  {
   "cell_type": "markdown",
   "metadata": {},
   "source": [
    "<a id=cust></a>\n",
    "## 3. [[tdm]](#tdm)  Table 'customers'"
   ]
  },
  {
   "cell_type": "code",
   "execution_count": 18,
   "metadata": {},
   "outputs": [
    {
     "data": {
      "text/html": [
       "<div>\n",
       "<style scoped>\n",
       "    .dataframe tbody tr th:only-of-type {\n",
       "        vertical-align: middle;\n",
       "    }\n",
       "\n",
       "    .dataframe tbody tr th {\n",
       "        vertical-align: top;\n",
       "    }\n",
       "\n",
       "    .dataframe thead th {\n",
       "        text-align: right;\n",
       "    }\n",
       "</style>\n",
       "<table border=\"1\" class=\"dataframe\">\n",
       "  <thead>\n",
       "    <tr style=\"text-align: right;\">\n",
       "      <th></th>\n",
       "      <th>client_id</th>\n",
       "      <th>sex</th>\n",
       "      <th>birth</th>\n",
       "    </tr>\n",
       "  </thead>\n",
       "  <tbody>\n",
       "    <tr>\n",
       "      <th>0</th>\n",
       "      <td>c_4410</td>\n",
       "      <td>f</td>\n",
       "      <td>1967</td>\n",
       "    </tr>\n",
       "  </tbody>\n",
       "</table>\n",
       "</div>"
      ],
      "text/plain": [
       "  client_id sex  birth\n",
       "0    c_4410   f   1967"
      ]
     },
     "execution_count": 18,
     "metadata": {},
     "output_type": "execute_result"
    }
   ],
   "source": [
    "# Import des données 'customers'\n",
    "cust = pd.read_csv('data/customers.csv')\n",
    "cust.head(1)"
   ]
  },
  {
   "cell_type": "markdown",
   "metadata": {},
   "source": [
    "<a id=cust1></a>\n",
    "#### 1. [[tdm]](#tdm) Exclusion des valeurs de test"
   ]
  },
  {
   "cell_type": "code",
   "execution_count": 19,
   "metadata": {
    "scrolled": true
   },
   "outputs": [
    {
     "data": {
      "text/html": [
       "<div>\n",
       "<style scoped>\n",
       "    .dataframe tbody tr th:only-of-type {\n",
       "        vertical-align: middle;\n",
       "    }\n",
       "\n",
       "    .dataframe tbody tr th {\n",
       "        vertical-align: top;\n",
       "    }\n",
       "\n",
       "    .dataframe thead th {\n",
       "        text-align: right;\n",
       "    }\n",
       "</style>\n",
       "<table border=\"1\" class=\"dataframe\">\n",
       "  <thead>\n",
       "    <tr style=\"text-align: right;\">\n",
       "      <th></th>\n",
       "      <th>client_id</th>\n",
       "      <th>sex</th>\n",
       "      <th>birth</th>\n",
       "    </tr>\n",
       "  </thead>\n",
       "  <tbody>\n",
       "    <tr>\n",
       "      <th>0</th>\n",
       "      <td>c_4410</td>\n",
       "      <td>f</td>\n",
       "      <td>1967</td>\n",
       "    </tr>\n",
       "  </tbody>\n",
       "</table>\n",
       "</div>"
      ],
      "text/plain": [
       "  client_id sex  birth\n",
       "0    c_4410   f   1967"
      ]
     },
     "execution_count": 19,
     "metadata": {},
     "output_type": "execute_result"
    }
   ],
   "source": [
    "# supression des 2 clients-tests\n",
    "cust = cust[~cust['client_id'].isin(['ct_0', 'ct_1'])]\n",
    "cust.head(1)"
   ]
  },
  {
   "cell_type": "markdown",
   "metadata": {},
   "source": [
    "<a id=cust2></a>\n",
    "#### 2. [[tdm]](#tdm) Recherche de doublons dans 'client_id'"
   ]
  },
  {
   "cell_type": "code",
   "execution_count": 20,
   "metadata": {},
   "outputs": [
    {
     "name": "stdout",
     "output_type": "stream",
     "text": [
      "pas de doublons dans client_id\n"
     ]
    }
   ],
   "source": [
    "a = cust['client_id']\n",
    "b = set(cust['client_id']) #supprime les doublons...\n",
    "\n",
    "if len(a) != len(b):\n",
    "    print('doublons dans client_id')\n",
    "else:\n",
    "    print( 'pas de doublons dans client_id')"
   ]
  },
  {
   "cell_type": "markdown",
   "metadata": {},
   "source": [
    "<a id=cust3></a>\n",
    "#### 3. [[tdm]](#tdm) Calcul de l'âge des clients\n",
    "* On suppose que l'action se déroule début mars 2022, les dernières valeurs recueillies datant de février 2022"
   ]
  },
  {
   "cell_type": "code",
   "execution_count": 21,
   "metadata": {},
   "outputs": [
    {
     "data": {
      "text/html": [
       "<div>\n",
       "<style scoped>\n",
       "    .dataframe tbody tr th:only-of-type {\n",
       "        vertical-align: middle;\n",
       "    }\n",
       "\n",
       "    .dataframe tbody tr th {\n",
       "        vertical-align: top;\n",
       "    }\n",
       "\n",
       "    .dataframe thead th {\n",
       "        text-align: right;\n",
       "    }\n",
       "</style>\n",
       "<table border=\"1\" class=\"dataframe\">\n",
       "  <thead>\n",
       "    <tr style=\"text-align: right;\">\n",
       "      <th></th>\n",
       "      <th>client_id</th>\n",
       "      <th>sex</th>\n",
       "      <th>age</th>\n",
       "    </tr>\n",
       "  </thead>\n",
       "  <tbody>\n",
       "    <tr>\n",
       "      <th>0</th>\n",
       "      <td>c_4410</td>\n",
       "      <td>f</td>\n",
       "      <td>55</td>\n",
       "    </tr>\n",
       "  </tbody>\n",
       "</table>\n",
       "</div>"
      ],
      "text/plain": [
       "  client_id sex  age\n",
       "0    c_4410   f   55"
      ]
     },
     "execution_count": 21,
     "metadata": {},
     "output_type": "execute_result"
    }
   ],
   "source": [
    "# Calcul de l'âge des clients basé sur l'année de naissance\n",
    "cust['age'] = 2022 - cust['birth']\n",
    "\n",
    "# supression de la variable 'birth'\n",
    "cust.drop(['birth'], axis=1, inplace = True)\n",
    "cust.head(1)"
   ]
  },
  {
   "cell_type": "code",
   "execution_count": 22,
   "metadata": {
    "scrolled": true
   },
   "outputs": [
    {
     "data": {
      "text/plain": [
       "count    8621.000000\n",
       "mean       43.724394\n",
       "std        16.917958\n",
       "min        18.000000\n",
       "25%        30.000000\n",
       "50%        43.000000\n",
       "75%        56.000000\n",
       "max        93.000000\n",
       "Name: age, dtype: float64"
      ]
     },
     "execution_count": 22,
     "metadata": {},
     "output_type": "execute_result"
    }
   ],
   "source": [
    "# comportement des valeurs\n",
    "cust['age'].describe()"
   ]
  },
  {
   "cell_type": "markdown",
   "metadata": {},
   "source": [
    "* La moyenne et la médiane sont quasi identiques, aux alentours de 43 ans\n",
    "* Pas d'âge aberrant a priori, nous sommes sensés être en mars 2022 (dernier mois de data = 02/2022)\n",
    "* Le plus vieux client aurait 93 ans et le plus jeune 18 ans\n",
    "* Cependant ne disposant ni du mois ni du jour de naissance, considérons 'age' comme un intervalle"
   ]
  },
  {
   "cell_type": "code",
   "execution_count": 23,
   "metadata": {
    "scrolled": true
   },
   "outputs": [
    {
     "data": {
      "text/plain": [
       "array(['f', 'm'], dtype=object)"
      ]
     },
     "execution_count": 23,
     "metadata": {},
     "output_type": "execute_result"
    }
   ],
   "source": [
    "# valeurs uniques dans 'sex'\n",
    "cust['sex'].unique()"
   ]
  },
  {
   "cell_type": "markdown",
   "metadata": {},
   "source": [
    "<a id=mrg></a>\n",
    "## 4. [[tdm]](#tdm) Merge des 3 tables"
   ]
  },
  {
   "cell_type": "code",
   "execution_count": 24,
   "metadata": {},
   "outputs": [
    {
     "data": {
      "text/html": [
       "<div>\n",
       "<style scoped>\n",
       "    .dataframe tbody tr th:only-of-type {\n",
       "        vertical-align: middle;\n",
       "    }\n",
       "\n",
       "    .dataframe tbody tr th {\n",
       "        vertical-align: top;\n",
       "    }\n",
       "\n",
       "    .dataframe thead th {\n",
       "        text-align: right;\n",
       "    }\n",
       "</style>\n",
       "<table border=\"1\" class=\"dataframe\">\n",
       "  <thead>\n",
       "    <tr style=\"text-align: right;\">\n",
       "      <th></th>\n",
       "      <th>index</th>\n",
       "      <th>id_prod</th>\n",
       "      <th>timestamp</th>\n",
       "      <th>session_id</th>\n",
       "      <th>client_id</th>\n",
       "      <th>timeline</th>\n",
       "      <th>date</th>\n",
       "      <th>year</th>\n",
       "      <th>month</th>\n",
       "      <th>day</th>\n",
       "      <th>hour</th>\n",
       "    </tr>\n",
       "  </thead>\n",
       "  <tbody>\n",
       "    <tr>\n",
       "      <th>51887</th>\n",
       "      <td>51907</td>\n",
       "      <td>1_264</td>\n",
       "      <td>2021-03-28 17:16:26.325707</td>\n",
       "      <td>s_12716</td>\n",
       "      <td>c_6624</td>\n",
       "      <td>2021-03</td>\n",
       "      <td>28-03-2021</td>\n",
       "      <td>2021</td>\n",
       "      <td>3</td>\n",
       "      <td>Sunday</td>\n",
       "      <td>17</td>\n",
       "    </tr>\n",
       "  </tbody>\n",
       "</table>\n",
       "</div>"
      ],
      "text/plain": [
       "       index id_prod                  timestamp session_id client_id timeline  \\\n",
       "51887  51907   1_264 2021-03-28 17:16:26.325707    s_12716    c_6624  2021-03   \n",
       "\n",
       "             date  year  month     day  hour  \n",
       "51887  28-03-2021  2021      3  Sunday    17  "
      ]
     },
     "execution_count": 24,
     "metadata": {},
     "output_type": "execute_result"
    }
   ],
   "source": [
    "# rappel des données 'transactions'\n",
    "temp = transactions.copy()\n",
    "temp.head(1)"
   ]
  },
  {
   "cell_type": "code",
   "execution_count": 25,
   "metadata": {},
   "outputs": [
    {
     "data": {
      "text/html": [
       "<div>\n",
       "<style scoped>\n",
       "    .dataframe tbody tr th:only-of-type {\n",
       "        vertical-align: middle;\n",
       "    }\n",
       "\n",
       "    .dataframe tbody tr th {\n",
       "        vertical-align: top;\n",
       "    }\n",
       "\n",
       "    .dataframe thead th {\n",
       "        text-align: right;\n",
       "    }\n",
       "</style>\n",
       "<table border=\"1\" class=\"dataframe\">\n",
       "  <thead>\n",
       "    <tr style=\"text-align: right;\">\n",
       "      <th></th>\n",
       "      <th>id_prod</th>\n",
       "      <th>price</th>\n",
       "      <th>categ</th>\n",
       "    </tr>\n",
       "  </thead>\n",
       "  <tbody>\n",
       "    <tr>\n",
       "      <th>0</th>\n",
       "      <td>0_1421</td>\n",
       "      <td>19.99</td>\n",
       "      <td>0</td>\n",
       "    </tr>\n",
       "  </tbody>\n",
       "</table>\n",
       "</div>"
      ],
      "text/plain": [
       "  id_prod  price  categ\n",
       "0  0_1421  19.99      0"
      ]
     },
     "execution_count": 25,
     "metadata": {},
     "output_type": "execute_result"
    }
   ],
   "source": [
    "# rappel des données 'products'\n",
    "prod.head(1)"
   ]
  },
  {
   "cell_type": "code",
   "execution_count": 26,
   "metadata": {},
   "outputs": [
    {
     "data": {
      "text/html": [
       "<div>\n",
       "<style scoped>\n",
       "    .dataframe tbody tr th:only-of-type {\n",
       "        vertical-align: middle;\n",
       "    }\n",
       "\n",
       "    .dataframe tbody tr th {\n",
       "        vertical-align: top;\n",
       "    }\n",
       "\n",
       "    .dataframe thead th {\n",
       "        text-align: right;\n",
       "    }\n",
       "</style>\n",
       "<table border=\"1\" class=\"dataframe\">\n",
       "  <thead>\n",
       "    <tr style=\"text-align: right;\">\n",
       "      <th></th>\n",
       "      <th>client_id</th>\n",
       "      <th>sex</th>\n",
       "      <th>age</th>\n",
       "    </tr>\n",
       "  </thead>\n",
       "  <tbody>\n",
       "    <tr>\n",
       "      <th>0</th>\n",
       "      <td>c_4410</td>\n",
       "      <td>f</td>\n",
       "      <td>55</td>\n",
       "    </tr>\n",
       "  </tbody>\n",
       "</table>\n",
       "</div>"
      ],
      "text/plain": [
       "  client_id sex  age\n",
       "0    c_4410   f   55"
      ]
     },
     "execution_count": 26,
     "metadata": {},
     "output_type": "execute_result"
    }
   ],
   "source": [
    "# rappel des données 'customers'\n",
    "cust.head(1)"
   ]
  },
  {
   "cell_type": "markdown",
   "metadata": {},
   "source": [
    "<a id=mrg1></a>\n",
    "####  1. [[tdm]](#tdm)  Merge de transactions et cutomers (left join)\n",
    "* Nous utilisons un left join (transactions) car notre mission est d'analyser les ventes"
   ]
  },
  {
   "cell_type": "code",
   "execution_count": 27,
   "metadata": {},
   "outputs": [
    {
     "data": {
      "text/html": [
       "<div>\n",
       "<style scoped>\n",
       "    .dataframe tbody tr th:only-of-type {\n",
       "        vertical-align: middle;\n",
       "    }\n",
       "\n",
       "    .dataframe tbody tr th {\n",
       "        vertical-align: top;\n",
       "    }\n",
       "\n",
       "    .dataframe thead th {\n",
       "        text-align: right;\n",
       "    }\n",
       "</style>\n",
       "<table border=\"1\" class=\"dataframe\">\n",
       "  <thead>\n",
       "    <tr style=\"text-align: right;\">\n",
       "      <th></th>\n",
       "      <th>level_0</th>\n",
       "      <th>index</th>\n",
       "      <th>id_prod</th>\n",
       "      <th>timestamp</th>\n",
       "      <th>session_id</th>\n",
       "      <th>client_id</th>\n",
       "      <th>timeline</th>\n",
       "      <th>date</th>\n",
       "      <th>year</th>\n",
       "      <th>month</th>\n",
       "      <th>day</th>\n",
       "      <th>hour</th>\n",
       "      <th>sex</th>\n",
       "      <th>age</th>\n",
       "    </tr>\n",
       "  </thead>\n",
       "  <tbody>\n",
       "    <tr>\n",
       "      <th>0</th>\n",
       "      <td>0</td>\n",
       "      <td>51907</td>\n",
       "      <td>1_264</td>\n",
       "      <td>2021-03-28 17:16:26.325707</td>\n",
       "      <td>s_12716</td>\n",
       "      <td>c_6624</td>\n",
       "      <td>2021-03</td>\n",
       "      <td>28-03-2021</td>\n",
       "      <td>2021</td>\n",
       "      <td>3</td>\n",
       "      <td>Sunday</td>\n",
       "      <td>17</td>\n",
       "      <td>m</td>\n",
       "      <td>69</td>\n",
       "    </tr>\n",
       "  </tbody>\n",
       "</table>\n",
       "</div>"
      ],
      "text/plain": [
       "   level_0  index id_prod                  timestamp session_id client_id  \\\n",
       "0        0  51907   1_264 2021-03-28 17:16:26.325707    s_12716    c_6624   \n",
       "\n",
       "  timeline        date  year  month     day  hour sex  age  \n",
       "0  2021-03  28-03-2021  2021      3  Sunday    17   m   69  "
      ]
     },
     "execution_count": 27,
     "metadata": {},
     "output_type": "execute_result"
    }
   ],
   "source": [
    "# left join de 'temp' et de 'cust' sur la clé 'client_id'\n",
    "tab = pd.merge(temp, cust, on='client_id', how='left')\n",
    "tab = tab.reset_index()\n",
    "tab.head(1)"
   ]
  },
  {
   "cell_type": "markdown",
   "metadata": {},
   "source": [
    "<a id=mrg2></a>\n",
    "#### 2. [[tdm]](#tdm) Merge de products (outer joint)\n",
    "* Nous utilisons outer join pour contrôler l'ensemble des valeurs"
   ]
  },
  {
   "cell_type": "code",
   "execution_count": 28,
   "metadata": {},
   "outputs": [
    {
     "data": {
      "text/html": [
       "<div>\n",
       "<style scoped>\n",
       "    .dataframe tbody tr th:only-of-type {\n",
       "        vertical-align: middle;\n",
       "    }\n",
       "\n",
       "    .dataframe tbody tr th {\n",
       "        vertical-align: top;\n",
       "    }\n",
       "\n",
       "    .dataframe thead th {\n",
       "        text-align: right;\n",
       "    }\n",
       "</style>\n",
       "<table border=\"1\" class=\"dataframe\">\n",
       "  <thead>\n",
       "    <tr style=\"text-align: right;\">\n",
       "      <th></th>\n",
       "      <th>level_0</th>\n",
       "      <th>index</th>\n",
       "      <th>id_prod</th>\n",
       "      <th>timestamp</th>\n",
       "      <th>session_id</th>\n",
       "      <th>client_id</th>\n",
       "      <th>timeline</th>\n",
       "      <th>date</th>\n",
       "      <th>year</th>\n",
       "      <th>month</th>\n",
       "      <th>day</th>\n",
       "      <th>hour</th>\n",
       "      <th>sex</th>\n",
       "      <th>age</th>\n",
       "      <th>price</th>\n",
       "      <th>categ</th>\n",
       "    </tr>\n",
       "  </thead>\n",
       "  <tbody>\n",
       "    <tr>\n",
       "      <th>0</th>\n",
       "      <td>0.0</td>\n",
       "      <td>51907.0</td>\n",
       "      <td>1_264</td>\n",
       "      <td>2021-03-28 17:16:26.325707</td>\n",
       "      <td>s_12716</td>\n",
       "      <td>c_6624</td>\n",
       "      <td>2021-03</td>\n",
       "      <td>28-03-2021</td>\n",
       "      <td>2021.0</td>\n",
       "      <td>3.0</td>\n",
       "      <td>Sunday</td>\n",
       "      <td>17.0</td>\n",
       "      <td>m</td>\n",
       "      <td>69.0</td>\n",
       "      <td>16.07</td>\n",
       "      <td>1.0</td>\n",
       "    </tr>\n",
       "  </tbody>\n",
       "</table>\n",
       "</div>"
      ],
      "text/plain": [
       "   level_0    index id_prod                  timestamp session_id client_id  \\\n",
       "0      0.0  51907.0   1_264 2021-03-28 17:16:26.325707    s_12716    c_6624   \n",
       "\n",
       "  timeline        date    year  month     day  hour sex   age  price  categ  \n",
       "0  2021-03  28-03-2021  2021.0    3.0  Sunday  17.0   m  69.0  16.07    1.0  "
      ]
     },
     "execution_count": 28,
     "metadata": {},
     "output_type": "execute_result"
    }
   ],
   "source": [
    "# outer join de 'tab' et de 'p`rod' sur la clé 'client_id'\n",
    "table = pd.merge(tab, prod, on='id_prod', how='outer')\n",
    "table.head(1)"
   ]
  },
  {
   "cell_type": "code",
   "execution_count": 29,
   "metadata": {
    "scrolled": true
   },
   "outputs": [
    {
     "data": {
      "text/html": [
       "<div>\n",
       "<style scoped>\n",
       "    .dataframe tbody tr th:only-of-type {\n",
       "        vertical-align: middle;\n",
       "    }\n",
       "\n",
       "    .dataframe tbody tr th {\n",
       "        vertical-align: top;\n",
       "    }\n",
       "\n",
       "    .dataframe thead th {\n",
       "        text-align: right;\n",
       "    }\n",
       "</style>\n",
       "<table border=\"1\" class=\"dataframe\">\n",
       "  <thead>\n",
       "    <tr style=\"text-align: right;\">\n",
       "      <th></th>\n",
       "      <th>session_id</th>\n",
       "      <th>client_id</th>\n",
       "      <th>sex</th>\n",
       "      <th>age</th>\n",
       "      <th>id_prod</th>\n",
       "      <th>price</th>\n",
       "      <th>categ</th>\n",
       "      <th>timeline</th>\n",
       "      <th>date</th>\n",
       "      <th>year</th>\n",
       "      <th>month</th>\n",
       "      <th>day</th>\n",
       "      <th>hour</th>\n",
       "      <th>timestamp</th>\n",
       "    </tr>\n",
       "  </thead>\n",
       "  <tbody>\n",
       "    <tr>\n",
       "      <th>0</th>\n",
       "      <td>s_12716</td>\n",
       "      <td>c_6624</td>\n",
       "      <td>m</td>\n",
       "      <td>69.0</td>\n",
       "      <td>1_264</td>\n",
       "      <td>16.07</td>\n",
       "      <td>1.0</td>\n",
       "      <td>2021-03</td>\n",
       "      <td>28-03-2021</td>\n",
       "      <td>2021.0</td>\n",
       "      <td>3.0</td>\n",
       "      <td>Sunday</td>\n",
       "      <td>17.0</td>\n",
       "      <td>2021-03-28 17:16:26.325707</td>\n",
       "    </tr>\n",
       "  </tbody>\n",
       "</table>\n",
       "</div>"
      ],
      "text/plain": [
       "  session_id client_id sex   age id_prod  price  categ timeline        date  \\\n",
       "0    s_12716    c_6624   m  69.0   1_264  16.07    1.0  2021-03  28-03-2021   \n",
       "\n",
       "     year  month     day  hour                  timestamp  \n",
       "0  2021.0    3.0  Sunday  17.0 2021-03-28 17:16:26.325707  "
      ]
     },
     "execution_count": 29,
     "metadata": {},
     "output_type": "execute_result"
    }
   ],
   "source": [
    "# réorganisation des colonnes\n",
    "table = table[['session_id','client_id','sex','age','id_prod','price','categ','timeline',\n",
    "             'date','year','month','day','hour','timestamp']]\n",
    "table.head(1)"
   ]
  },
  {
   "cell_type": "markdown",
   "metadata": {},
   "source": [
    "<a id=mrg3></a>\n",
    "#### 3. [[tdm]](#tdm) Identification des NaN"
   ]
  },
  {
   "cell_type": "code",
   "execution_count": 30,
   "metadata": {},
   "outputs": [],
   "source": [
    "# rappel de la table\n",
    "nan = table[['session_id','client_id','id_prod','categ','price']].copy()"
   ]
  },
  {
   "cell_type": "code",
   "execution_count": 31,
   "metadata": {},
   "outputs": [
    {
     "data": {
      "text/html": [
       "<div>\n",
       "<style scoped>\n",
       "    .dataframe tbody tr th:only-of-type {\n",
       "        vertical-align: middle;\n",
       "    }\n",
       "\n",
       "    .dataframe tbody tr th {\n",
       "        vertical-align: top;\n",
       "    }\n",
       "\n",
       "    .dataframe thead th {\n",
       "        text-align: right;\n",
       "    }\n",
       "</style>\n",
       "<table border=\"1\" class=\"dataframe\">\n",
       "  <thead>\n",
       "    <tr style=\"text-align: right;\">\n",
       "      <th></th>\n",
       "      <th>session_id</th>\n",
       "      <th>client_id</th>\n",
       "      <th>id_prod</th>\n",
       "      <th>categ</th>\n",
       "      <th>price</th>\n",
       "    </tr>\n",
       "  </thead>\n",
       "  <tbody>\n",
       "    <tr>\n",
       "      <th>336816</th>\n",
       "      <td>NaN</td>\n",
       "      <td>NaN</td>\n",
       "      <td>0_1016</td>\n",
       "      <td>0.0</td>\n",
       "      <td>35.06</td>\n",
       "    </tr>\n",
       "    <tr>\n",
       "      <th>336817</th>\n",
       "      <td>NaN</td>\n",
       "      <td>NaN</td>\n",
       "      <td>0_1780</td>\n",
       "      <td>0.0</td>\n",
       "      <td>1.67</td>\n",
       "    </tr>\n",
       "  </tbody>\n",
       "</table>\n",
       "</div>"
      ],
      "text/plain": [
       "       session_id client_id id_prod  categ  price\n",
       "336816        NaN       NaN  0_1016    0.0  35.06\n",
       "336817        NaN       NaN  0_1780    0.0   1.67"
      ]
     },
     "execution_count": 31,
     "metadata": {},
     "output_type": "execute_result"
    }
   ],
   "source": [
    "# NaN dans session_id\n",
    "nan = nan.loc[nan['session_id'].isnull()] \n",
    "nan.head(2)"
   ]
  },
  {
   "cell_type": "code",
   "execution_count": 32,
   "metadata": {},
   "outputs": [
    {
     "data": {
      "text/plain": [
       "session_id     0\n",
       "client_id      0\n",
       "id_prod       22\n",
       "categ         22\n",
       "price         22\n",
       "dtype: int64"
      ]
     },
     "execution_count": 32,
     "metadata": {},
     "output_type": "execute_result"
    }
   ],
   "source": [
    "nan.count()"
   ]
  },
  {
   "cell_type": "markdown",
   "metadata": {},
   "source": [
    "* Nous avons 22 clients sans **session_id** ni **ip_prod**\n",
    "* Sans identifiant **session_id** nous ne pouvons pas observer de transaction\n",
    "* Nous excluerons ces 22 clients de la table"
   ]
  },
  {
   "cell_type": "code",
   "execution_count": 33,
   "metadata": {},
   "outputs": [],
   "source": [
    "# on retire les NaN de 'session_id'\n",
    "table = table[table['session_id'].notnull()].reset_index()"
   ]
  },
  {
   "cell_type": "code",
   "execution_count": 34,
   "metadata": {},
   "outputs": [
    {
     "data": {
      "text/html": [
       "<div>\n",
       "<style scoped>\n",
       "    .dataframe tbody tr th:only-of-type {\n",
       "        vertical-align: middle;\n",
       "    }\n",
       "\n",
       "    .dataframe tbody tr th {\n",
       "        vertical-align: top;\n",
       "    }\n",
       "\n",
       "    .dataframe thead th {\n",
       "        text-align: right;\n",
       "    }\n",
       "</style>\n",
       "<table border=\"1\" class=\"dataframe\">\n",
       "  <thead>\n",
       "    <tr style=\"text-align: right;\">\n",
       "      <th></th>\n",
       "      <th>session_id</th>\n",
       "      <th>client_id</th>\n",
       "      <th>id_prod</th>\n",
       "      <th>categ</th>\n",
       "      <th>price</th>\n",
       "    </tr>\n",
       "  </thead>\n",
       "  <tbody>\n",
       "    <tr>\n",
       "      <th>313915</th>\n",
       "      <td>s_12567</td>\n",
       "      <td>c_966</td>\n",
       "      <td>0_2245</td>\n",
       "      <td>NaN</td>\n",
       "      <td>NaN</td>\n",
       "    </tr>\n",
       "    <tr>\n",
       "      <th>313916</th>\n",
       "      <td>s_12938</td>\n",
       "      <td>c_1025</td>\n",
       "      <td>0_2245</td>\n",
       "      <td>NaN</td>\n",
       "      <td>NaN</td>\n",
       "    </tr>\n",
       "  </tbody>\n",
       "</table>\n",
       "</div>"
      ],
      "text/plain": [
       "       session_id client_id id_prod  categ  price\n",
       "313915    s_12567     c_966  0_2245    NaN    NaN\n",
       "313916    s_12938    c_1025  0_2245    NaN    NaN"
      ]
     },
     "execution_count": 34,
     "metadata": {},
     "output_type": "execute_result"
    }
   ],
   "source": [
    "# recherche des NaN sur 'price'\n",
    "nan2 = table[['session_id','client_id','id_prod','categ','price']].copy()\n",
    "nan2 = nan2.loc[nan2['price'].isnull()] \n",
    "nan2.head(2)"
   ]
  },
  {
   "cell_type": "code",
   "execution_count": 35,
   "metadata": {},
   "outputs": [
    {
     "data": {
      "text/plain": [
       "session_id    103\n",
       "client_id     103\n",
       "id_prod       103\n",
       "categ           0\n",
       "price           0\n",
       "dtype: int64"
      ]
     },
     "execution_count": 35,
     "metadata": {},
     "output_type": "execute_result"
    }
   ],
   "source": [
    "nan2.count()"
   ]
  },
  {
   "cell_type": "markdown",
   "metadata": {},
   "source": [
    "* Le Nan est provoqué par le **produit 0_2245** qui n'a ni catégorie, ni prix\n",
    "* La nomenclature de 'id_prod' nous permet de dire que **id_product = '0_xxxx'** indique la **catégorie = '0'**\n",
    "* On peut remplacer le NaN du prix du **produit 0_2245** par la moyenne ou la médiane des prix de la catégorie '0'"
   ]
  },
  {
   "cell_type": "markdown",
   "metadata": {},
   "source": [
    "<a id=mrg4></a>\n",
    "#### 4. [[tdm]](#tdm) Description de la valeur de 'price' pour la catégorie 0"
   ]
  },
  {
   "cell_type": "code",
   "execution_count": 36,
   "metadata": {},
   "outputs": [
    {
     "data": {
      "text/plain": [
       "count    209426.000000\n",
       "mean         10.646828\n",
       "std           4.930030\n",
       "min           0.620000\n",
       "25%           6.300000\n",
       "50%           9.990000\n",
       "75%          14.450000\n",
       "max          40.990000\n",
       "Name: price, dtype: float64"
      ]
     },
     "execution_count": 36,
     "metadata": {},
     "output_type": "execute_result"
    }
   ],
   "source": [
    "ave_0 = table[['id_prod','price','categ']].copy()\n",
    "\n",
    "# exclusion de '0_2245' et sélection de la catégorie 0\n",
    "ave_0 = ave_0[(ave_0['id_prod'] != '0_2245')]\n",
    "ave_0 = ave_0[(ave_0['categ'] == 0)]\n",
    "\n",
    "# comportement des valeurs\n",
    "ave_0['price'].describe()"
   ]
  },
  {
   "cell_type": "markdown",
   "metadata": {},
   "source": [
    "* La moyenne (10.64) et la médiane (9.99) sont proches\n",
    "* Je fais le choix de la **médiane** pour remplacer les valeurs manquantes du produit 0_2245 : categ 0 = 9.99"
   ]
  },
  {
   "cell_type": "markdown",
   "metadata": {},
   "source": [
    "<a id=mrg5></a>\n",
    "#### 5. [[tdm]](#tdm) Remplacement des NaN de 'price' et 'categ' pour le produit 0_2245"
   ]
  },
  {
   "cell_type": "code",
   "execution_count": 37,
   "metadata": {},
   "outputs": [
    {
     "data": {
      "text/plain": [
       "103"
      ]
     },
     "execution_count": 37,
     "metadata": {},
     "output_type": "execute_result"
    }
   ],
   "source": [
    "check = table[(table['id_prod'] == '0_2245')]\n",
    "check['id_prod'].count()"
   ]
  },
  {
   "cell_type": "code",
   "execution_count": 38,
   "metadata": {
    "scrolled": true
   },
   "outputs": [],
   "source": [
    "# remplacement de NaN par 0 dans 'categ'\n",
    "table['categ']=table['categ'].fillna('0')\n",
    "# remplacement de NaN par la médiane dans 'price'\n",
    "table['price']=table['price'].fillna(9.99)"
   ]
  },
  {
   "cell_type": "code",
   "execution_count": 39,
   "metadata": {},
   "outputs": [
    {
     "data": {
      "text/plain": [
       "1028.97"
      ]
     },
     "execution_count": 39,
     "metadata": {},
     "output_type": "execute_result"
    }
   ],
   "source": [
    "# contrôle: CA pour le produit 0_2245\n",
    "describe = table[['session_id','client_id','id_prod','categ','price']].copy()\n",
    "describe = describe[(describe['id_prod'] == '0_2245')]\n",
    "round(describe['price'].sum(),2)"
   ]
  },
  {
   "cell_type": "code",
   "execution_count": 40,
   "metadata": {},
   "outputs": [
    {
     "data": {
      "text/plain": [
       "5797606.74"
      ]
     },
     "execution_count": 40,
     "metadata": {},
     "output_type": "execute_result"
    }
   ],
   "source": [
    "# contrôle: CA pour le produit 0_2245\n",
    "table_ct = table[['session_id','client_id','id_prod','categ','price']].copy()\n",
    "round(table_ct['price'].sum(),2)"
   ]
  },
  {
   "cell_type": "code",
   "execution_count": 41,
   "metadata": {},
   "outputs": [
    {
     "data": {
      "text/plain": [
       "0.018"
      ]
     },
     "execution_count": 41,
     "metadata": {},
     "output_type": "execute_result"
    }
   ],
   "source": [
    "# pourcentage du CA de 0_2245 sur total CA\n",
    "round(1028.97/5797606.74 * 100,3)"
   ]
  },
  {
   "cell_type": "markdown",
   "metadata": {},
   "source": [
    "**Conclusion**\n",
    "* L'impact du remplacement des valeurs manquantes sur le CA total est négligeable\n",
    "* L'opération aurait pu être négligée et les NaN suprimés\n",
    "* Toutefois, dans le cadre de l'exercice, il semble important de démontrer notre capacité à réaliser ce genre d'opération"
   ]
  },
  {
   "cell_type": "markdown",
   "metadata": {},
   "source": [
    "<a id=ctrl></a>\n",
    "## 5. [[tdm]](#tdm) Contrôle de la cohérence des variables"
   ]
  },
  {
   "cell_type": "markdown",
   "metadata": {},
   "source": [
    "<a id=ctr1></a>\n",
    "#### 1. [[tdm]](#tdm) Somme de price pour client_id"
   ]
  },
  {
   "cell_type": "code",
   "execution_count": 42,
   "metadata": {},
   "outputs": [
    {
     "data": {
      "text/html": [
       "<div>\n",
       "<style scoped>\n",
       "    .dataframe tbody tr th:only-of-type {\n",
       "        vertical-align: middle;\n",
       "    }\n",
       "\n",
       "    .dataframe tbody tr th {\n",
       "        vertical-align: top;\n",
       "    }\n",
       "\n",
       "    .dataframe thead th {\n",
       "        text-align: right;\n",
       "    }\n",
       "</style>\n",
       "<table border=\"1\" class=\"dataframe\">\n",
       "  <thead>\n",
       "    <tr style=\"text-align: right;\">\n",
       "      <th></th>\n",
       "      <th>client_id</th>\n",
       "      <th>id_prod</th>\n",
       "      <th>categ</th>\n",
       "      <th>price</th>\n",
       "    </tr>\n",
       "  </thead>\n",
       "  <tbody>\n",
       "    <tr>\n",
       "      <th>0</th>\n",
       "      <td>c_6624</td>\n",
       "      <td>1_264</td>\n",
       "      <td>1</td>\n",
       "      <td>16.07</td>\n",
       "    </tr>\n",
       "  </tbody>\n",
       "</table>\n",
       "</div>"
      ],
      "text/plain": [
       "  client_id id_prod categ  price\n",
       "0    c_6624   1_264     1  16.07"
      ]
     },
     "execution_count": 42,
     "metadata": {},
     "output_type": "execute_result"
    }
   ],
   "source": [
    "pr2= table[['client_id','id_prod','categ','price']].copy()\n",
    "pr2.head(1)"
   ]
  },
  {
   "cell_type": "code",
   "execution_count": 43,
   "metadata": {},
   "outputs": [
    {
     "data": {
      "text/html": [
       "<div>\n",
       "<style scoped>\n",
       "    .dataframe tbody tr th:only-of-type {\n",
       "        vertical-align: middle;\n",
       "    }\n",
       "\n",
       "    .dataframe tbody tr th {\n",
       "        vertical-align: top;\n",
       "    }\n",
       "\n",
       "    .dataframe thead th {\n",
       "        text-align: right;\n",
       "    }\n",
       "</style>\n",
       "<table border=\"1\" class=\"dataframe\">\n",
       "  <thead>\n",
       "    <tr style=\"text-align: right;\">\n",
       "      <th></th>\n",
       "      <th>client_id</th>\n",
       "      <th>tot_achats</th>\n",
       "    </tr>\n",
       "  </thead>\n",
       "  <tbody>\n",
       "    <tr>\n",
       "      <th>0</th>\n",
       "      <td>c_1</td>\n",
       "      <td>300.65</td>\n",
       "    </tr>\n",
       "  </tbody>\n",
       "</table>\n",
       "</div>"
      ],
      "text/plain": [
       "  client_id  tot_achats\n",
       "0       c_1      300.65"
      ]
     },
     "execution_count": 43,
     "metadata": {},
     "output_type": "execute_result"
    }
   ],
   "source": [
    "# groupby 'client_id' et calcul de la somme de 'price'\n",
    "pr2 = pr2.groupby(['client_id']).sum()[['price']]\n",
    "\n",
    "# On renomme 'price'\n",
    "pr2.rename(columns={'price': 'tot_achats'}, inplace=True)\n",
    "pr2 = pr2.reset_index()\n",
    "pr2.head(1)"
   ]
  },
  {
   "cell_type": "code",
   "execution_count": 44,
   "metadata": {},
   "outputs": [
    {
     "data": {
      "text/plain": [
       "count      8600.000000\n",
       "mean        674.140319\n",
       "std        2565.979402\n",
       "min           4.150000\n",
       "25%         275.765000\n",
       "50%         501.310000\n",
       "75%         870.897500\n",
       "max      162007.340000\n",
       "Name: tot_achats, dtype: float64"
      ]
     },
     "execution_count": 44,
     "metadata": {},
     "output_type": "execute_result"
    }
   ],
   "source": [
    "# comportement de la variable 'tot_achat'\n",
    "pr2['tot_achats'].describe()"
   ]
  },
  {
   "cell_type": "markdown",
   "metadata": {},
   "source": [
    "* Il y a un max très élogné du 3e quartile\n",
    "* il y a certainement des valeurs aberrantes"
   ]
  },
  {
   "cell_type": "code",
   "execution_count": 45,
   "metadata": {},
   "outputs": [
    {
     "data": {
      "image/png": "[encoded data removed]",
      "text/plain": [
       "<Figure size 648x216 with 1 Axes>"
      ]
     },
     "metadata": {},
     "output_type": "display_data"
    }
   ],
   "source": [
    "# création du boxplot\n",
    "sns.set_style(\"whitegrid\")\n",
    "plt.figure(figsize=(9,3))\n",
    "\n",
    "plt.boxplot(pr2['tot_achats'],showmeans =True,vert=False )\n",
    "plt.title(\"Skewness de 'price'\", fontsize=16, color='maroon')\n",
    "\n",
    "plt.savefig('img/Q1/5.1 skewness_price.png', dpi=120, bbox_inches='tight')\n",
    "plt.show()\n",
    "plt.close()"
   ]
  },
  {
   "cell_type": "markdown",
   "metadata": {},
   "source": [
    "* Nous avons 4 mesures avec des valeurs extrêmes\n",
    "* Il pourrait s'agir de clients institutionnels (bibliothèques, universités, recherche) \n",
    "* Mais cela peut fausser le résultat si l'on étudie l'individu lambda"
   ]
  },
  {
   "cell_type": "code",
   "execution_count": 46,
   "metadata": {
    "scrolled": true
   },
   "outputs": [
    {
     "data": {
      "text/plain": [
       "count    8596.000000\n",
       "mean      623.971844\n",
       "std       457.131506\n",
       "min         4.150000\n",
       "25%       275.632500\n",
       "50%       501.170000\n",
       "75%       869.897500\n",
       "max      2564.250000\n",
       "Name: tot_achats, dtype: float64"
      ]
     },
     "execution_count": 46,
     "metadata": {},
     "output_type": "execute_result"
    }
   ],
   "source": [
    "# exclusion des 4 top clients\n",
    "pr2 = pr2[~(pr2['client_id'].isin(['c_1609','c_4958','c_6714','c_3454']))]\n",
    "pr2['tot_achats'].describe()"
   ]
  },
  {
   "cell_type": "markdown",
   "metadata": {},
   "source": [
    "* La moyenne se rapproche significativement de la médiane\n",
    "* La standard deviation (dispertion) a été divisée par 5,6"
   ]
  },
  {
   "cell_type": "code",
   "execution_count": 47,
   "metadata": {},
   "outputs": [
    {
     "data": {
      "text/html": [
       "<div>\n",
       "<style scoped>\n",
       "    .dataframe tbody tr th:only-of-type {\n",
       "        vertical-align: middle;\n",
       "    }\n",
       "\n",
       "    .dataframe tbody tr th {\n",
       "        vertical-align: top;\n",
       "    }\n",
       "\n",
       "    .dataframe thead th {\n",
       "        text-align: right;\n",
       "    }\n",
       "</style>\n",
       "<table border=\"1\" class=\"dataframe\">\n",
       "  <thead>\n",
       "    <tr style=\"text-align: right;\">\n",
       "      <th></th>\n",
       "      <th>client_id</th>\n",
       "      <th>tot_achats</th>\n",
       "    </tr>\n",
       "  </thead>\n",
       "  <tbody>\n",
       "    <tr>\n",
       "      <th>0</th>\n",
       "      <td>c_1</td>\n",
       "      <td>300.65</td>\n",
       "    </tr>\n",
       "  </tbody>\n",
       "</table>\n",
       "</div>"
      ],
      "text/plain": [
       "  client_id  tot_achats\n",
       "0       c_1      300.65"
      ]
     },
     "execution_count": 47,
     "metadata": {},
     "output_type": "execute_result"
    }
   ],
   "source": [
    "pr3=pr2.copy()\n",
    "pr3.head(1)"
   ]
  },
  {
   "cell_type": "code",
   "execution_count": 48,
   "metadata": {},
   "outputs": [
    {
     "data": {
      "image/png": "[encoded data removed]",
      "text/plain": [
       "<Figure size 648x216 with 1 Axes>"
      ]
     },
     "metadata": {},
     "output_type": "display_data"
    }
   ],
   "source": [
    "# boxplot sans les top 4 clients\n",
    "sns.set_style(\"whitegrid\")\n",
    "plt.figure(figsize=(9,3))\n",
    "\n",
    "plt.title(\"Skewness de 'price' nettoyée\", fontsize=16, color='maroon')\n",
    "plt.boxplot(pr3['tot_achats'],showmeans =True,vert=False )\n",
    "\n",
    "plt.savefig('img/Q1/5.1 skewness_price_nettoyee.png', dpi=120, bbox_inches='tight')\n",
    "plt.show()\n",
    "plt.close()"
   ]
  },
  {
   "cell_type": "markdown",
   "metadata": {},
   "source": [
    "* Matplotlib propose toutefois des outliers, approximativement entre 1750 et 2600"
   ]
  },
  {
   "cell_type": "code",
   "execution_count": 49,
   "metadata": {},
   "outputs": [
    {
     "data": {
      "image/png": "[encoded data removed]",
      "text/plain": [
       "<Figure size 648x360 with 1 Axes>"
      ]
     },
     "metadata": {},
     "output_type": "display_data"
    }
   ],
   "source": [
    "tot_achats = pr3[['tot_achats']]\n",
    "\n",
    "# visualisation du skewness de 'price'\n",
    "sns.set_style(\"darkgrid\")\n",
    "plt.figure(figsize=(9,5))\n",
    "\n",
    "# graphique\n",
    "sns.distplot(tot_achats.tot_achats)\n",
    "# titre\n",
    "plt.title(\"Skewness de 'price' nettoyée 2\", fontsize=16, color='maroon')\n",
    "# labels\n",
    "plt.xlabel('total achats', color='darkblue', size=13)\n",
    "\n",
    "plt.savefig('img/Q1/5.1 skewness_price_nettoyee_2.png', dpi=120, bbox_inches='tight')\n",
    "plt.show()\n",
    "plt.close()"
   ]
  },
  {
   "cell_type": "markdown",
   "metadata": {},
   "source": [
    "* A la vue de ce graphique, pas d'outliers\n",
    "* La courbe a simplement un skewness à droite"
   ]
  },
  {
   "cell_type": "markdown",
   "metadata": {},
   "source": [
    "<a id=ctrl2></a>\n",
    "#### 2. [[tdm]](#tdm) Nombre de sessions mensuelles par catégorie"
   ]
  },
  {
   "cell_type": "code",
   "execution_count": 50,
   "metadata": {
    "scrolled": true
   },
   "outputs": [
    {
     "data": {
      "text/html": [
       "<div>\n",
       "<style scoped>\n",
       "    .dataframe tbody tr th:only-of-type {\n",
       "        vertical-align: middle;\n",
       "    }\n",
       "\n",
       "    .dataframe tbody tr th {\n",
       "        vertical-align: top;\n",
       "    }\n",
       "\n",
       "    .dataframe thead th {\n",
       "        text-align: right;\n",
       "    }\n",
       "</style>\n",
       "<table border=\"1\" class=\"dataframe\">\n",
       "  <thead>\n",
       "    <tr style=\"text-align: right;\">\n",
       "      <th></th>\n",
       "      <th>level_0</th>\n",
       "      <th>index</th>\n",
       "      <th>session_id</th>\n",
       "      <th>client_id</th>\n",
       "      <th>sex</th>\n",
       "      <th>age</th>\n",
       "      <th>id_prod</th>\n",
       "      <th>price</th>\n",
       "      <th>categ</th>\n",
       "      <th>timeline</th>\n",
       "      <th>date</th>\n",
       "      <th>year</th>\n",
       "      <th>month</th>\n",
       "      <th>day</th>\n",
       "      <th>hour</th>\n",
       "      <th>timestamp</th>\n",
       "    </tr>\n",
       "  </thead>\n",
       "  <tbody>\n",
       "    <tr>\n",
       "      <th>0</th>\n",
       "      <td>0</td>\n",
       "      <td>0</td>\n",
       "      <td>s_12716</td>\n",
       "      <td>c_6624</td>\n",
       "      <td>m</td>\n",
       "      <td>69.0</td>\n",
       "      <td>1_264</td>\n",
       "      <td>16.07</td>\n",
       "      <td>1</td>\n",
       "      <td>2021-03</td>\n",
       "      <td>28-03-2021</td>\n",
       "      <td>2021.0</td>\n",
       "      <td>3.0</td>\n",
       "      <td>Sunday</td>\n",
       "      <td>17.0</td>\n",
       "      <td>2021-03-28 17:16:26.325707</td>\n",
       "    </tr>\n",
       "  </tbody>\n",
       "</table>\n",
       "</div>"
      ],
      "text/plain": [
       "   level_0  index session_id client_id sex   age id_prod  price categ  \\\n",
       "0        0      0    s_12716    c_6624   m  69.0   1_264  16.07     1   \n",
       "\n",
       "  timeline        date    year  month     day  hour                  timestamp  \n",
       "0  2021-03  28-03-2021  2021.0    3.0  Sunday  17.0 2021-03-28 17:16:26.325707  "
      ]
     },
     "execution_count": 50,
     "metadata": {},
     "output_type": "execute_result"
    }
   ],
   "source": [
    "# rappel de la table et exclusion des 4 top clients\n",
    "table = table[~(table['client_id'].isin(['c_1609','c_4958','c_6714','c_3454']))].reset_index()\n",
    "table.head(1)"
   ]
  },
  {
   "cell_type": "code",
   "execution_count": 51,
   "metadata": {},
   "outputs": [
    {
     "data": {
      "text/html": [
       "<div>\n",
       "<style scoped>\n",
       "    .dataframe tbody tr th:only-of-type {\n",
       "        vertical-align: middle;\n",
       "    }\n",
       "\n",
       "    .dataframe tbody tr th {\n",
       "        vertical-align: top;\n",
       "    }\n",
       "\n",
       "    .dataframe thead th {\n",
       "        text-align: right;\n",
       "    }\n",
       "</style>\n",
       "<table border=\"1\" class=\"dataframe\">\n",
       "  <thead>\n",
       "    <tr style=\"text-align: right;\">\n",
       "      <th></th>\n",
       "      <th>timeline</th>\n",
       "      <th>categ</th>\n",
       "      <th>session_id</th>\n",
       "    </tr>\n",
       "  </thead>\n",
       "  <tbody>\n",
       "    <tr>\n",
       "      <th>0</th>\n",
       "      <td>2021-03</td>\n",
       "      <td>0</td>\n",
       "      <td>16896</td>\n",
       "    </tr>\n",
       "    <tr>\n",
       "      <th>1</th>\n",
       "      <td>2021-03</td>\n",
       "      <td>1</td>\n",
       "      <td>8542</td>\n",
       "    </tr>\n",
       "  </tbody>\n",
       "</table>\n",
       "</div>"
      ],
      "text/plain": [
       "  timeline  categ  session_id\n",
       "0  2021-03      0       16896\n",
       "1  2021-03      1        8542"
      ]
     },
     "execution_count": 51,
     "metadata": {},
     "output_type": "execute_result"
    }
   ],
   "source": [
    "# groupby et compte de cession_id\n",
    "timeline = table[['timeline','session_id','categ']].copy()\n",
    "timeline = timeline.groupby(['timeline','categ']).session_id.count()\n",
    "timeline = timeline.reset_index()\n",
    "timeline['categ'] = timeline['categ'].astype('int64', copy=False)\n",
    "timeline.head(2)"
   ]
  },
  {
   "cell_type": "code",
   "execution_count": 52,
   "metadata": {},
   "outputs": [
    {
     "data": {
      "text/plain": [
       "array([0, 1, 2], dtype=int64)"
      ]
     },
     "execution_count": 52,
     "metadata": {},
     "output_type": "execute_result"
    }
   ],
   "source": [
    "timeline['categ'].unique()"
   ]
  },
  {
   "cell_type": "code",
   "execution_count": 53,
   "metadata": {},
   "outputs": [
    {
     "data": {
      "image/png": "[encoded data removed]",
      "text/plain": [
       "<Figure size 708.625x324 with 1 Axes>"
      ]
     },
     "metadata": {},
     "output_type": "display_data"
    }
   ],
   "source": [
    "sns.set_style(\"whitegrid\")\n",
    "\n",
    "sns.relplot(x='timeline', y='session_id', hue='categ', style='categ',height=4.5, aspect=2,\n",
    "            kind='line', data=timeline)\n",
    "\n",
    "plt.title(\"Evolution mensuelle du nb de sessions par catégorie\", fontsize=16, color='maroon')\n",
    "# labels\n",
    "plt.xlabel('période', color='darkblue', size=13)\n",
    "plt.ylabel(\"nombre de sessions\", color='darkblue', size=13)\n",
    "\n",
    "plt.savefig('img/Q1/5.2 CA_cat.png', dpi=120, bbox_inches='tight')\n",
    "plt.show()\n",
    "plt.close()"
   ]
  },
  {
   "cell_type": "markdown",
   "metadata": {},
   "source": [
    "* il y a un effondrement des cessions pour la catégorie 2 sur octobre"
   ]
  },
  {
   "cell_type": "markdown",
   "metadata": {},
   "source": [
    "<a id=ctrl3></a>\n",
    "#### 3. [[tdm]](#tdm) Chiffre d'affaire (CA) mensuel par catégorie"
   ]
  },
  {
   "cell_type": "code",
   "execution_count": 54,
   "metadata": {},
   "outputs": [
    {
     "data": {
      "text/html": [
       "<div>\n",
       "<style scoped>\n",
       "    .dataframe tbody tr th:only-of-type {\n",
       "        vertical-align: middle;\n",
       "    }\n",
       "\n",
       "    .dataframe tbody tr th {\n",
       "        vertical-align: top;\n",
       "    }\n",
       "\n",
       "    .dataframe thead th {\n",
       "        text-align: right;\n",
       "    }\n",
       "</style>\n",
       "<table border=\"1\" class=\"dataframe\">\n",
       "  <thead>\n",
       "    <tr style=\"text-align: right;\">\n",
       "      <th></th>\n",
       "      <th>timeline</th>\n",
       "      <th>categ</th>\n",
       "      <th>CA</th>\n",
       "    </tr>\n",
       "  </thead>\n",
       "  <tbody>\n",
       "    <tr>\n",
       "      <th>0</th>\n",
       "      <td>2021-03</td>\n",
       "      <td>0</td>\n",
       "      <td>180578.15</td>\n",
       "    </tr>\n",
       "    <tr>\n",
       "      <th>1</th>\n",
       "      <td>2021-03</td>\n",
       "      <td>1</td>\n",
       "      <td>174569.68</td>\n",
       "    </tr>\n",
       "  </tbody>\n",
       "</table>\n",
       "</div>"
      ],
      "text/plain": [
       "  timeline  categ         CA\n",
       "0  2021-03      0  180578.15\n",
       "1  2021-03      1  174569.68"
      ]
     },
     "execution_count": 54,
     "metadata": {},
     "output_type": "execute_result"
    }
   ],
   "source": [
    "# groupby et compte de cession_id\n",
    "ventes = table[['timeline','categ','price']].copy()\n",
    "ventes = ventes.groupby(['timeline','categ']).price.sum()\n",
    "ventes = ventes.reset_index()\n",
    "ventes['categ'] = ventes['categ'].astype('int64', copy=False)\n",
    "# on renomme 'price' en 'CA'\n",
    "ventes.columns = ['timeline','categ','CA']\n",
    "ventes.head(2)"
   ]
  },
  {
   "cell_type": "code",
   "execution_count": 55,
   "metadata": {},
   "outputs": [
    {
     "data": {
      "image/png": "[encoded data removed]",
      "text/plain": [
       "<Figure size 708.625x324 with 1 Axes>"
      ]
     },
     "metadata": {},
     "output_type": "display_data"
    }
   ],
   "source": [
    "# série temporelle montant des achats par catégorie\n",
    "sns.set_style(\"whitegrid\")\n",
    "sns.relplot(x=\"timeline\", y=\"CA\", hue=\"categ\", style=\"categ\",height=4.5, aspect=2,\n",
    "            kind=\"line\", data=ventes)\n",
    "\n",
    "plt.title(\"Evolution mensuelle du CA par catégorie\", fontsize=16, color='maroon')\n",
    "\n",
    "plt.savefig('img/Q1/5.3 nb_achats.png', dpi=120, bbox_inches='tight')\n",
    "\n",
    "plt.show()\n",
    "plt.close()"
   ]
  },
  {
   "cell_type": "markdown",
   "metadata": {},
   "source": [
    "* Il y a un effondrement du CA sur octobre pour la catégorie 1"
   ]
  },
  {
   "cell_type": "markdown",
   "metadata": {},
   "source": [
    "<a id=ctrl4></a>\n",
    "#### 4. [[tdm]](#tdm) Détail sur octobre pour la catégorie 1"
   ]
  },
  {
   "cell_type": "code",
   "execution_count": 56,
   "metadata": {
    "scrolled": true
   },
   "outputs": [
    {
     "data": {
      "text/html": [
       "<div>\n",
       "<style scoped>\n",
       "    .dataframe tbody tr th:only-of-type {\n",
       "        vertical-align: middle;\n",
       "    }\n",
       "\n",
       "    .dataframe tbody tr th {\n",
       "        vertical-align: top;\n",
       "    }\n",
       "\n",
       "    .dataframe thead th {\n",
       "        text-align: right;\n",
       "    }\n",
       "</style>\n",
       "<table border=\"1\" class=\"dataframe\">\n",
       "  <thead>\n",
       "    <tr style=\"text-align: right;\">\n",
       "      <th></th>\n",
       "      <th>level_0</th>\n",
       "      <th>index</th>\n",
       "      <th>session_id</th>\n",
       "      <th>client_id</th>\n",
       "      <th>sex</th>\n",
       "      <th>age</th>\n",
       "      <th>id_prod</th>\n",
       "      <th>price</th>\n",
       "      <th>categ</th>\n",
       "      <th>timeline</th>\n",
       "      <th>date</th>\n",
       "      <th>year</th>\n",
       "      <th>month</th>\n",
       "      <th>day</th>\n",
       "      <th>hour</th>\n",
       "      <th>timestamp</th>\n",
       "    </tr>\n",
       "  </thead>\n",
       "  <tbody>\n",
       "    <tr>\n",
       "      <th>0</th>\n",
       "      <td>0</td>\n",
       "      <td>0</td>\n",
       "      <td>s_12716</td>\n",
       "      <td>c_6624</td>\n",
       "      <td>m</td>\n",
       "      <td>69.0</td>\n",
       "      <td>1_264</td>\n",
       "      <td>16.07</td>\n",
       "      <td>1</td>\n",
       "      <td>2021-03</td>\n",
       "      <td>28-03-2021</td>\n",
       "      <td>2021.0</td>\n",
       "      <td>3.0</td>\n",
       "      <td>Sunday</td>\n",
       "      <td>17.0</td>\n",
       "      <td>2021-03-28 17:16:26.325707</td>\n",
       "    </tr>\n",
       "  </tbody>\n",
       "</table>\n",
       "</div>"
      ],
      "text/plain": [
       "   level_0  index session_id client_id sex   age id_prod  price categ  \\\n",
       "0        0      0    s_12716    c_6624   m  69.0   1_264  16.07     1   \n",
       "\n",
       "  timeline        date    year  month     day  hour                  timestamp  \n",
       "0  2021-03  28-03-2021  2021.0    3.0  Sunday  17.0 2021-03-28 17:16:26.325707  "
      ]
     },
     "execution_count": 56,
     "metadata": {},
     "output_type": "execute_result"
    }
   ],
   "source": [
    "# rappele de la table\n",
    "detail = table.copy()\n",
    "detail.head(1)"
   ]
  },
  {
   "cell_type": "code",
   "execution_count": 57,
   "metadata": {},
   "outputs": [
    {
     "data": {
      "text/plain": [
       "array([10.])"
      ]
     },
     "execution_count": 57,
     "metadata": {},
     "output_type": "execute_result"
    }
   ],
   "source": [
    "# sélection des mois désirés (ici juste oct, mais on peut changer l'écart)\n",
    "detail = detail[detail['month'].between(10, 10, inclusive=True)]\n",
    "\n",
    "# on sélectionne '1' dans la variable 'categ'\n",
    "detail = detail[(detail['categ'] == 1)]\n",
    "\n",
    "#check 'month'\n",
    "detail['month'].unique()"
   ]
  },
  {
   "cell_type": "code",
   "execution_count": 58,
   "metadata": {},
   "outputs": [
    {
     "data": {
      "text/plain": [
       "<bound method NDFrame.head of          date  session_id\n",
       "0  01-10-2021         320\n",
       "1  28-10-2021         298\n",
       "2  29-10-2021         306\n",
       "3  30-10-2021         319\n",
       "4  31-10-2021         328>"
      ]
     },
     "execution_count": 58,
     "metadata": {},
     "output_type": "execute_result"
    }
   ],
   "source": [
    "# groupby et compte de session_id\n",
    "detail_gp = detail.copy()\n",
    "detail_gp = detail_gp.groupby(['date']).session_id.count() \n",
    "detail_gp = detail_gp.reset_index()\n",
    "detail_gp.head"
   ]
  },
  {
   "cell_type": "markdown",
   "metadata": {},
   "source": [
    "* Il n'y a pas de valeurs entre le **2 et le 27 octobre inclus** pour la catégorie 1\n",
    "* Ce peut être un problème technique (peu probable durant 25 jours) ou une rupture d'approvisionnement (plus probable)\n",
    "* Il faut choisir si on laisse le dataset en l'état, si l'on retire tout le mois d'octobre ou si l'on remplace les valeurs manquantes\n",
    "* Je ne suis pas favorable à la supression du mois d'octobre, nous perdons des valeurs pour les catégories 0 et 2\n",
    "* Attention, nous ne pouvons pas décider maintenant si l'on remplace les valeurs de la catégorie 1 : en supposant que l'on remplace les valeurs de CA par la médiane ou la moyenne, quelles valeurs allons-nous donner pour les variables âge, sex, session_id, client_id, id_prod ?"
   ]
  },
  {
   "cell_type": "markdown",
   "metadata": {},
   "source": [
    "<a id=ctrl5></a>\n",
    "#### 5. [[tdm]](#tdm) Dernier contrôle de la table et export"
   ]
  },
  {
   "cell_type": "code",
   "execution_count": 59,
   "metadata": {},
   "outputs": [
    {
     "data": {
      "text/html": [
       "<div>\n",
       "<style scoped>\n",
       "    .dataframe tbody tr th:only-of-type {\n",
       "        vertical-align: middle;\n",
       "    }\n",
       "\n",
       "    .dataframe tbody tr th {\n",
       "        vertical-align: top;\n",
       "    }\n",
       "\n",
       "    .dataframe thead th {\n",
       "        text-align: right;\n",
       "    }\n",
       "</style>\n",
       "<table border=\"1\" class=\"dataframe\">\n",
       "  <thead>\n",
       "    <tr style=\"text-align: right;\">\n",
       "      <th></th>\n",
       "      <th>level_0</th>\n",
       "      <th>index</th>\n",
       "      <th>session_id</th>\n",
       "      <th>client_id</th>\n",
       "      <th>sex</th>\n",
       "      <th>age</th>\n",
       "      <th>id_prod</th>\n",
       "      <th>price</th>\n",
       "      <th>categ</th>\n",
       "      <th>timeline</th>\n",
       "      <th>date</th>\n",
       "      <th>year</th>\n",
       "      <th>month</th>\n",
       "      <th>day</th>\n",
       "      <th>hour</th>\n",
       "      <th>timestamp</th>\n",
       "    </tr>\n",
       "  </thead>\n",
       "  <tbody>\n",
       "    <tr>\n",
       "      <th>0</th>\n",
       "      <td>0</td>\n",
       "      <td>0</td>\n",
       "      <td>s_12716</td>\n",
       "      <td>c_6624</td>\n",
       "      <td>m</td>\n",
       "      <td>69.0</td>\n",
       "      <td>1_264</td>\n",
       "      <td>16.07</td>\n",
       "      <td>1</td>\n",
       "      <td>2021-03</td>\n",
       "      <td>28-03-2021</td>\n",
       "      <td>2021.0</td>\n",
       "      <td>3.0</td>\n",
       "      <td>Sunday</td>\n",
       "      <td>17.0</td>\n",
       "      <td>2021-03-28 17:16:26.325707</td>\n",
       "    </tr>\n",
       "  </tbody>\n",
       "</table>\n",
       "</div>"
      ],
      "text/plain": [
       "   level_0  index session_id client_id sex   age id_prod  price categ  \\\n",
       "0        0      0    s_12716    c_6624   m  69.0   1_264  16.07     1   \n",
       "\n",
       "  timeline        date    year  month     day  hour                  timestamp  \n",
       "0  2021-03  28-03-2021  2021.0    3.0  Sunday  17.0 2021-03-28 17:16:26.325707  "
      ]
     },
     "execution_count": 59,
     "metadata": {},
     "output_type": "execute_result"
    }
   ],
   "source": [
    "table.head(1)"
   ]
  },
  {
   "cell_type": "code",
   "execution_count": 60,
   "metadata": {},
   "outputs": [
    {
     "name": "stdout",
     "output_type": "stream",
     "text": [
      "<class 'pandas.core.frame.DataFrame'>\n",
      "RangeIndex: 313651 entries, 0 to 313650\n",
      "Data columns (total 16 columns):\n",
      "level_0       313651 non-null int64\n",
      "index         313651 non-null int64\n",
      "session_id    313651 non-null object\n",
      "client_id     313651 non-null object\n",
      "sex           313651 non-null object\n",
      "age           313651 non-null float64\n",
      "id_prod       313651 non-null object\n",
      "price         313651 non-null float64\n",
      "categ         313651 non-null object\n",
      "timeline      313651 non-null object\n",
      "date          313651 non-null object\n",
      "year          313651 non-null float64\n",
      "month         313651 non-null float64\n",
      "day           313651 non-null object\n",
      "hour          313651 non-null float64\n",
      "timestamp     313651 non-null datetime64[ns]\n",
      "dtypes: datetime64[ns](1), float64(5), int64(2), object(8)\n",
      "memory usage: 38.3+ MB\n"
     ]
    }
   ],
   "source": [
    "table.info()"
   ]
  },
  {
   "cell_type": "code",
   "execution_count": 61,
   "metadata": {},
   "outputs": [],
   "source": [
    "# transformation de plusieurs variables en integer\n",
    "table['categ'] = table['categ'].astype('int64', copy=False)\n",
    "table['year'] = table['year'].astype('int64', copy=False)\n",
    "table['month'] = table['month'].astype('int64', copy=False)\n",
    "table['hour'] = table['hour'].astype('int64', copy=False)"
   ]
  },
  {
   "cell_type": "code",
   "execution_count": 62,
   "metadata": {},
   "outputs": [
    {
     "data": {
      "text/html": [
       "<div>\n",
       "<style scoped>\n",
       "    .dataframe tbody tr th:only-of-type {\n",
       "        vertical-align: middle;\n",
       "    }\n",
       "\n",
       "    .dataframe tbody tr th {\n",
       "        vertical-align: top;\n",
       "    }\n",
       "\n",
       "    .dataframe thead th {\n",
       "        text-align: right;\n",
       "    }\n",
       "</style>\n",
       "<table border=\"1\" class=\"dataframe\">\n",
       "  <thead>\n",
       "    <tr style=\"text-align: right;\">\n",
       "      <th></th>\n",
       "      <th>level_0</th>\n",
       "      <th>index</th>\n",
       "      <th>session_id</th>\n",
       "      <th>client_id</th>\n",
       "      <th>sex</th>\n",
       "      <th>age</th>\n",
       "      <th>id_prod</th>\n",
       "      <th>price</th>\n",
       "      <th>categ</th>\n",
       "      <th>timeline</th>\n",
       "      <th>date</th>\n",
       "      <th>year</th>\n",
       "      <th>month</th>\n",
       "      <th>day</th>\n",
       "      <th>hour</th>\n",
       "      <th>timestamp</th>\n",
       "    </tr>\n",
       "  </thead>\n",
       "  <tbody>\n",
       "    <tr>\n",
       "      <th>0</th>\n",
       "      <td>0</td>\n",
       "      <td>0</td>\n",
       "      <td>s_12716</td>\n",
       "      <td>c_6624</td>\n",
       "      <td>m</td>\n",
       "      <td>69.0</td>\n",
       "      <td>1_264</td>\n",
       "      <td>16.07</td>\n",
       "      <td>1</td>\n",
       "      <td>2021-03</td>\n",
       "      <td>28-03-2021</td>\n",
       "      <td>2021</td>\n",
       "      <td>3</td>\n",
       "      <td>Sunday</td>\n",
       "      <td>17</td>\n",
       "      <td>2021-03-28 17:16:26.325707</td>\n",
       "    </tr>\n",
       "  </tbody>\n",
       "</table>\n",
       "</div>"
      ],
      "text/plain": [
       "   level_0  index session_id client_id sex   age id_prod  price  categ  \\\n",
       "0        0      0    s_12716    c_6624   m  69.0   1_264  16.07      1   \n",
       "\n",
       "  timeline        date  year  month     day  hour                  timestamp  \n",
       "0  2021-03  28-03-2021  2021      3  Sunday    17 2021-03-28 17:16:26.325707  "
      ]
     },
     "execution_count": 62,
     "metadata": {},
     "output_type": "execute_result"
    }
   ],
   "source": [
    "table.head(1)"
   ]
  },
  {
   "cell_type": "code",
   "execution_count": 63,
   "metadata": {},
   "outputs": [],
   "source": [
    "# Export au format .csv \n",
    "table.to_csv('data/table_clean.csv', index = False)"
   ]
  }
 ],
 "metadata": {
  "kernelspec": {
   "display_name": "Python 3",
   "language": "python",
   "name": "python3"
  },
  "language_info": {
   "codemirror_mode": {
    "name": "ipython",
    "version": 3
   },
   "file_extension": ".py",
   "mimetype": "text/x-python",
   "name": "python",
   "nbconvert_exporter": "python",
   "pygments_lexer": "ipython3",
   "version": "3.7.1"
  }
 },
 "nbformat": 4,
 "nbformat_minor": 2
}
